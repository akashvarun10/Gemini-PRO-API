{
 "cells": [
  {
   "cell_type": "markdown",
   "metadata": {},
   "source": [
    "#### Gemini API"
   ]
  },
  {
   "cell_type": "code",
   "execution_count": 1,
   "metadata": {},
   "outputs": [
    {
     "name": "stdout",
     "output_type": "stream",
     "text": [
      "Note: you may need to restart the kernel to use updated packages.\n"
     ]
    }
   ],
   "source": [
    "%pip install -q -U google-generativeai"
   ]
  },
  {
   "cell_type": "code",
   "execution_count": 2,
   "metadata": {},
   "outputs": [],
   "source": [
    "import warnings\n",
    "warnings.filterwarnings('ignore')"
   ]
  },
  {
   "cell_type": "code",
   "execution_count": 19,
   "metadata": {},
   "outputs": [],
   "source": [
    "#importing necessary libraries\n",
    "import pathlib\n",
    "import textwrap\n",
    "\n",
    "from IPython.display import display\n",
    "from IPython.display import Markdown\n",
    "def to_markdown (text):\n",
    "    text = text.replace('•', ' *')\n",
    "    return Markdown(textwrap.indent(text,'>', predicate=lambda _: True))"
   ]
  },
  {
   "cell_type": "code",
   "execution_count": 7,
   "metadata": {},
   "outputs": [],
   "source": [
    "import google.generativeai as genai"
   ]
  },
  {
   "cell_type": "code",
   "execution_count": 8,
   "metadata": {},
   "outputs": [
    {
     "data": {
      "text/plain": [
       "True"
      ]
     },
     "execution_count": 8,
     "metadata": {},
     "output_type": "execute_result"
    }
   ],
   "source": [
    "from dotenv import load_dotenv\n",
    "load_dotenv()"
   ]
  },
  {
   "cell_type": "code",
   "execution_count": 10,
   "metadata": {},
   "outputs": [],
   "source": [
    "import os\n",
    "api_key = os.getenv('GOOGLE_API_KEY')"
   ]
  },
  {
   "cell_type": "code",
   "execution_count": 11,
   "metadata": {},
   "outputs": [],
   "source": [
    "genai.configure(api_key=api_key)"
   ]
  },
  {
   "cell_type": "markdown",
   "metadata": {},
   "source": [
    "### List models\n",
    "Now you're ready to call the Gemini API. Use list_models to see the available Gemini models:\n",
    "\n",
    "• gemini-pro: optimized for text-only prompts.\n",
    "\n",
    "• gemini-pro-vision: optimized for text-and-images prompts."
   ]
  },
  {
   "cell_type": "code",
   "execution_count": 12,
   "metadata": {},
   "outputs": [
    {
     "name": "stdout",
     "output_type": "stream",
     "text": [
      "models/gemini-1.0-pro\n",
      "models/gemini-1.0-pro-001\n",
      "models/gemini-1.0-pro-latest\n",
      "models/gemini-1.0-pro-vision-latest\n",
      "models/gemini-pro\n",
      "models/gemini-pro-vision\n"
     ]
    }
   ],
   "source": [
    "for m in genai.list_models():\n",
    "    if 'generateContent' in m.supported_generation_methods:\n",
    "        print(m.name)"
   ]
  },
  {
   "cell_type": "markdown",
   "metadata": {},
   "source": [
    "##### The genai package also supports the PaLM family of models, but only the Gemini models support the generic, multimodal capabilities of the generateContent method."
   ]
  },
  {
   "cell_type": "code",
   "execution_count": 13,
   "metadata": {},
   "outputs": [],
   "source": [
    "model = genai.GenerativeModel('gemini-pro')"
   ]
  },
  {
   "cell_type": "code",
   "execution_count": 15,
   "metadata": {},
   "outputs": [
    {
     "data": {
      "text/plain": [
       " genai.GenerativeModel(\n",
       "   model_name='models/gemini-pro',\n",
       "   generation_config={}.\n",
       "   safety_settings={}\n",
       ")"
      ]
     },
     "execution_count": 15,
     "metadata": {},
     "output_type": "execute_result"
    }
   ],
   "source": [
    "model"
   ]
  },
  {
   "cell_type": "code",
   "execution_count": 20,
   "metadata": {},
   "outputs": [
    {
     "name": "stdout",
     "output_type": "stream",
     "text": [
      "CPU times: user 5.16 ms, sys: 7.19 ms, total: 12.4 ms\n",
      "Wall time: 10.1 s\n"
     ]
    }
   ],
   "source": [
    "%%time\n",
    "response = model.generate_content(\"What is the meaning of life?\")"
   ]
  },
  {
   "cell_type": "code",
   "execution_count": 22,
   "metadata": {},
   "outputs": [
    {
     "data": {
      "text/markdown": [
       ">The meaning of life is a multifaceted concept that has been pondered by philosophers, religious leaders, scientists, and individuals throughout history. There is no single, universally accepted answer, as the search for meaning is deeply personal and subjective. Here are some common perspectives on the meaning of life:\n",
       ">\n",
       ">**Purpose-Driven Meaning:**\n",
       ">\n",
       ">* Many people find meaning through pursuing specific goals, aspirations, or purposes. This could include achieving personal or professional milestones, making a positive impact on the world, or fulfilling a perceived calling.\n",
       ">\n",
       ">**Meaning through Relationships:**\n",
       ">\n",
       ">* Connecting with others and forming meaningful relationships can provide a deep sense of purpose and belonging. Some people derive meaning from nurturing their families, fostering friendships, or engaging in community activities.\n",
       ">\n",
       ">**Experiences and Fulfillment:**\n",
       ">\n",
       ">* Meaning can be found in the experiences we have and the moments of joy, awe, and wonder that we cultivate. This could involve travel, hobbies, artistic pursuits, or simply appreciating the beauty of the world around us.\n",
       ">\n",
       ">**Growth and Self-Actualization:**\n",
       ">\n",
       ">* Some people find meaning in personal growth and self-improvement. Striving to become the best version of yourself, developing your talents, and expanding your knowledge can create a sense of purpose and fulfillment.\n",
       ">\n",
       ">**Contribution and Legacy:**\n",
       ">\n",
       ">* Many find meaning through contributing to society in a positive way. This could involve volunteering, working in a meaningful field, or simply living a life that leaves a positive impact on others.\n",
       ">\n",
       ">**Spirituality and Transcendence:**\n",
       ">\n",
       ">* For some, meaning is derived from a connection with a higher power, spiritual beliefs, or a sense of purpose beyond the material world. This can include religious practices, meditation, or a deep appreciation for the natural world.\n",
       ">\n",
       ">**Personal Interpretation:**\n",
       ">\n",
       ">Ultimately, the meaning of life is something that each individual must discover for themselves. It is a deeply personal and subjective journey that requires self-reflection, exploration, and a willingness to embrace your own unique path.\n",
       ">\n",
       ">**Additional Perspectives:**\n",
       ">\n",
       ">* **Existentialism:** Emphasizes the importance of creating your own meaning through your actions and choices.\n",
       ">* **Nihilism:** Argues that there is no inherent meaning in life and that meaning is created by individuals.\n",
       ">* **Absurdism:** Acknowledges the inherent absurdity of human existence and focuses on finding meaning in the face of meaninglessness.\n",
       ">* **Hedonism:** Prioritizes pleasure and the pursuit of happiness as the ultimate goal.\n",
       ">* **Biocentrism:** Values all living beings and emphasizes the importance of protecting and nurturing the natural world."
      ],
      "text/plain": [
       "<IPython.core.display.Markdown object>"
      ]
     },
     "execution_count": 22,
     "metadata": {},
     "output_type": "execute_result"
    }
   ],
   "source": [
    "to_markdown(response.text)"
   ]
  },
  {
   "cell_type": "markdown",
   "metadata": {},
   "source": [
    "If the API failed to return a result, use GenerateContentRespose.prompt_feedback to see if it was blocked due to saftey\n",
    "concerns regarding the prompt."
   ]
  },
  {
   "cell_type": "code",
   "execution_count": 23,
   "metadata": {},
   "outputs": [
    {
     "data": {
      "text/plain": [
       "safety_ratings {\n",
       "  category: HARM_CATEGORY_SEXUALLY_EXPLICIT\n",
       "  probability: NEGLIGIBLE\n",
       "}\n",
       "safety_ratings {\n",
       "  category: HARM_CATEGORY_HATE_SPEECH\n",
       "  probability: NEGLIGIBLE\n",
       "}\n",
       "safety_ratings {\n",
       "  category: HARM_CATEGORY_HARASSMENT\n",
       "  probability: NEGLIGIBLE\n",
       "}\n",
       "safety_ratings {\n",
       "  category: HARM_CATEGORY_DANGEROUS_CONTENT\n",
       "  probability: NEGLIGIBLE\n",
       "}"
      ]
     },
     "execution_count": 23,
     "metadata": {},
     "output_type": "execute_result"
    }
   ],
   "source": [
    "response.prompt_feedback"
   ]
  },
  {
   "cell_type": "code",
   "execution_count": null,
   "metadata": {},
   "outputs": [],
   "source": []
  }
 ],
 "metadata": {
  "kernelspec": {
   "display_name": "langchain",
   "language": "python",
   "name": "python3"
  },
  "language_info": {
   "codemirror_mode": {
    "name": "ipython",
    "version": 3
   },
   "file_extension": ".py",
   "mimetype": "text/x-python",
   "name": "python",
   "nbconvert_exporter": "python",
   "pygments_lexer": "ipython3",
   "version": "3.9.18"
  }
 },
 "nbformat": 4,
 "nbformat_minor": 2
}
